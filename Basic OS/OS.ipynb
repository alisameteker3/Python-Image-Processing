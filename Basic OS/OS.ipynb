{
 "cells": [
  {
   "cell_type": "code",
   "execution_count": 1,
   "id": "55b2fedf-cd24-46c0-bed4-2a9f9938c027",
   "metadata": {},
   "outputs": [],
   "source": [
    "import os"
   ]
  },
  {
   "cell_type": "code",
   "execution_count": 2,
   "id": "b826e1f0-9f32-419d-b825-9009e789a641",
   "metadata": {},
   "outputs": [
    {
     "name": "stdout",
     "output_type": "stream",
     "text": [
      "nt\n"
     ]
    }
   ],
   "source": [
    "print(os.name)"
   ]
  },
  {
   "cell_type": "code",
   "execution_count": 5,
   "id": "643bfe31-1de5-4f5a-92c0-4216be522a83",
   "metadata": {},
   "outputs": [
    {
     "name": "stdout",
     "output_type": "stream",
     "text": [
      "C:\\Users\\Owner\n"
     ]
    }
   ],
   "source": [
    "currenDir = os.getcwd()\n",
    "print(currenDir)"
   ]
  },
  {
   "cell_type": "code",
   "execution_count": 6,
   "id": "0426056e-cf4e-4109-874b-9d405b486952",
   "metadata": {},
   "outputs": [],
   "source": [
    "folder_name=\"new_folder\"\n",
    "os.mkdir(folder_name)"
   ]
  },
  {
   "cell_type": "code",
   "execution_count": 7,
   "id": "92b478bc-f5ff-4e3c-843d-765a8a5490c7",
   "metadata": {},
   "outputs": [],
   "source": [
    "new_folder_name = \"new_folder_2\"\n",
    "os.rename(folder_name,new_folder_name)"
   ]
  },
  {
   "cell_type": "code",
   "execution_count": 11,
   "id": "4b6ac4c8-fdaf-4da2-9a8a-580ea41f604a",
   "metadata": {},
   "outputs": [
    {
     "name": "stdout",
     "output_type": "stream",
     "text": [
      "C:\\Users\\Owner\\new_folder_2\n"
     ]
    }
   ],
   "source": [
    "os.chdir(currenDir+\"\\\\\"+new_folder_name)\n",
    "print(os.getcwd())"
   ]
  },
  {
   "cell_type": "code",
   "execution_count": 13,
   "id": "f76a0fd6-0c2d-40a7-a1ea-7eef3f2b1978",
   "metadata": {},
   "outputs": [
    {
     "name": "stdout",
     "output_type": "stream",
     "text": [
      "C:\\Users\\Owner\n"
     ]
    }
   ],
   "source": [
    "os.chdir(currenDir)\n",
    "print(currenDir)"
   ]
  },
  {
   "cell_type": "code",
   "execution_count": 15,
   "id": "dbbaf9da-2f3a-4a28-b77c-92178c84b6bc",
   "metadata": {},
   "outputs": [],
   "source": [
    "files = os.listdir()\n"
   ]
  },
  {
   "cell_type": "code",
   "execution_count": 25,
   "id": "c8cac242-fa2f-4bba-b002-07ef1ae9f606",
   "metadata": {},
   "outputs": [],
   "source": [
    "for f in files:\n",
    "    if f.endswith(\"OS.ipynb\"):\n",
    "        print(f)"
   ]
  },
  {
   "cell_type": "code",
   "execution_count": 18,
   "id": "39ddd4fa-3015-4eda-9596-940e1cd5dcc2",
   "metadata": {},
   "outputs": [],
   "source": [
    "os.rmdir(new_folder_name)"
   ]
  },
  {
   "cell_type": "code",
   "execution_count": 26,
   "id": "5af16515-8cec-4435-94dd-f27d2d2592df",
   "metadata": {},
   "outputs": [
    {
     "data": {
      "text/plain": [
       "False"
      ]
     },
     "execution_count": 26,
     "metadata": {},
     "output_type": "execute_result"
    }
   ],
   "source": [
    "os.path.exists(\"OS\")"
   ]
  },
  {
   "cell_type": "code",
   "execution_count": null,
   "id": "715ee069-cec2-4f0d-8719-e62677ad1d85",
   "metadata": {},
   "outputs": [],
   "source": []
  }
 ],
 "metadata": {
  "kernelspec": {
   "display_name": "env_ybs_3",
   "language": "python",
   "name": "env_ybs_3"
  },
  "language_info": {
   "codemirror_mode": {
    "name": "ipython",
    "version": 3
   },
   "file_extension": ".py",
   "mimetype": "text/x-python",
   "name": "python",
   "nbconvert_exporter": "python",
   "pygments_lexer": "ipython3",
   "version": "3.10.10"
  }
 },
 "nbformat": 4,
 "nbformat_minor": 5
}
