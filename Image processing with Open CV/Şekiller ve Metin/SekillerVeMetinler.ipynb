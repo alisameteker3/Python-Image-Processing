{
 "cells": [
  {
   "cell_type": "code",
   "execution_count": 1,
   "id": "4761d3a1-e994-49a4-a822-228a76d40f5b",
   "metadata": {},
   "outputs": [],
   "source": [
    "import cv2\n",
    "import numpy as np"
   ]
  },
  {
   "cell_type": "code",
   "execution_count": 2,
   "id": "fffc94a9-08a6-4cc0-93ac-01a6c5f51399",
   "metadata": {},
   "outputs": [
    {
     "name": "stdout",
     "output_type": "stream",
     "text": [
      "(512, 512, 3)\n"
     ]
    }
   ],
   "source": [
    "img = np.zeros((512,512,3),np.uint8)\n",
    "print(img.shape)"
   ]
  },
  {
   "cell_type": "code",
   "execution_count": 3,
   "id": "3fa5d520-b9c9-40e4-9a1f-c5a588f53d56",
   "metadata": {},
   "outputs": [],
   "source": [
    "cv2.imshow(\"siyah\",img)\n",
    "\n",
    "cv2.waitKey(0)\n",
    "cv2.destroyAllWindows()"
   ]
  },
  {
   "cell_type": "code",
   "execution_count": 10,
   "id": "9dc3b0be-932e-40d2-b013-5f00e1c3ada0",
   "metadata": {},
   "outputs": [],
   "source": [
    "#Resim , başlangıç noktası , bitiş ,renk\n",
    "cv2.line(img,(0,0),(512,512),(0,255,0),3)\n",
    "cv2.imshow(\"cizgi\",img)\n",
    "\n",
    "cv2.waitKey(0)\n",
    "cv2.destroyAllWindows()"
   ]
  },
  {
   "cell_type": "code",
   "execution_count": 11,
   "id": "d4ec5300-5490-4ebf-b325-44e17a6d5532",
   "metadata": {},
   "outputs": [],
   "source": [
    "#resim , baslangıç , bitiş , renk\n",
    "cv2.rectangle(img, (0,0) ,(256,256) ,(255,0,0) , cv2.FILLED )\n",
    "cv2.imshow(\"dikdörtgen\",img)\n",
    "\n",
    "cv2.waitKey(0)\n",
    "cv2.destroyAllWindows()"
   ]
  },
  {
   "cell_type": "code",
   "execution_count": 12,
   "id": "e7cccc2c-8e37-4023-aca3-09f30937a8ec",
   "metadata": {},
   "outputs": [],
   "source": [
    "#resim , merkez , yarı çap ,renk\n",
    "cv2.circle(img,(300,300),45,(0,0,255),cv2.FILLED)\n",
    "cv2.imshow(\"cember\",img)\n",
    "\n",
    "cv2.waitKey(0)\n",
    "cv2.destroyAllWindows()"
   ]
  },
  {
   "cell_type": "code",
   "execution_count": 13,
   "id": "ab383ade-d451-40ca-85bc-52fc376d5d20",
   "metadata": {},
   "outputs": [],
   "source": [
    "#resim , baslangıc noktası , font , kalınlık , renk\n",
    "cv2.putText(img,\"Image\",(350,350),cv2.FONT_HERSHEY_COMPLEX,1,(255,255,255))\n",
    "cv2.imshow(\"metin\",img)\n",
    "\n",
    "cv2.waitKey(0)\n",
    "cv2.destroyAllWindows()"
   ]
  },
  {
   "cell_type": "code",
   "execution_count": null,
   "id": "9d8a55a0-89d7-4a55-97db-8f6659992dd9",
   "metadata": {},
   "outputs": [],
   "source": []
  }
 ],
 "metadata": {
  "kernelspec": {
   "display_name": "env_ybs_3",
   "language": "python",
   "name": "env_ybs_3"
  },
  "language_info": {
   "codemirror_mode": {
    "name": "ipython",
    "version": 3
   },
   "file_extension": ".py",
   "mimetype": "text/x-python",
   "name": "python",
   "nbconvert_exporter": "python",
   "pygments_lexer": "ipython3",
   "version": "3.10.10"
  }
 },
 "nbformat": 4,
 "nbformat_minor": 5
}
