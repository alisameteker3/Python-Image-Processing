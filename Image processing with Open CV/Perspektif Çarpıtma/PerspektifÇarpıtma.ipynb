{
 "cells": [
  {
   "cell_type": "code",
   "execution_count": 1,
   "id": "ccb67850-1a59-41e4-b0c3-8a66476a98e8",
   "metadata": {},
   "outputs": [],
   "source": [
    "import cv2\n",
    "import numpy as np"
   ]
  },
  {
   "cell_type": "code",
   "execution_count": 6,
   "id": "b3a111de-1cfe-4551-83c4-6860f34cfe3f",
   "metadata": {},
   "outputs": [],
   "source": [
    "img = cv2.imread(\"kartt.png\")\n",
    "cv2.imshow(\"original\",img)\n",
    "\n",
    "cv2.waitKey(0)\n",
    "cv2.destroyAllWindows()\n"
   ]
  },
  {
   "cell_type": "code",
   "execution_count": 9,
   "id": "2e69a375-58ab-47a7-9356-ad79824be2e2",
   "metadata": {},
   "outputs": [
    {
     "name": "stdout",
     "output_type": "stream",
     "text": [
      "[[ 9.88318421e-01  4.80519997e-01 -2.27793757e+02]\n",
      " [-4.28952606e-01  8.92451730e-01  9.77666476e+01]\n",
      " [-1.23898125e-04  7.89697479e-05  1.00000000e+00]]\n"
     ]
    }
   ],
   "source": [
    "width = 400\n",
    "height = 500\n",
    "\n",
    "pts1 = np.float32([[230,1],[1,472],[540,150],[338,617]])\n",
    "pts2 = np.float32([[0,0],[0,height],[width,0],[width,height]])\n",
    "\n",
    "matrix = cv2.getPerspectiveTransform(pts1,pts2)\n",
    "print(matrix)\n",
    "\n",
    "imgOutput = cv2.warpPerspective(img,matrix,(width,height))\n",
    "\n",
    "cv2.imshow(\"original\",img)\n",
    "\n",
    "cv2.waitKey(0)\n",
    "cv2.destroyAllWindows()"
   ]
  },
  {
   "cell_type": "code",
   "execution_count": null,
   "id": "c550b395-c285-4518-9eea-077e6bed0010",
   "metadata": {},
   "outputs": [],
   "source": []
  }
 ],
 "metadata": {
  "kernelspec": {
   "display_name": "env_ybs_3",
   "language": "python",
   "name": "env_ybs_3"
  },
  "language_info": {
   "codemirror_mode": {
    "name": "ipython",
    "version": 3
   },
   "file_extension": ".py",
   "mimetype": "text/x-python",
   "name": "python",
   "nbconvert_exporter": "python",
   "pygments_lexer": "ipython3",
   "version": "3.10.10"
  }
 },
 "nbformat": 4,
 "nbformat_minor": 5
}
