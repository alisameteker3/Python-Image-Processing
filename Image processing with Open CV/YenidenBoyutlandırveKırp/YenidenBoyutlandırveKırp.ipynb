{
 "cells": [
  {
   "cell_type": "code",
   "execution_count": 1,
   "id": "bece63f5-3d49-44fd-b9be-91299d4c2e48",
   "metadata": {},
   "outputs": [],
   "source": [
    "import cv2"
   ]
  },
  {
   "cell_type": "code",
   "execution_count": 2,
   "id": "0c823bf8-fa7b-4472-aef3-931ad56c08c6",
   "metadata": {},
   "outputs": [
    {
     "name": "stdout",
     "output_type": "stream",
     "text": [
      "resim boyutu :  (225, 225)\n"
     ]
    }
   ],
   "source": [
    "img = cv2.imread(\"lenna.jfif\",0)\n",
    "print(\"resim boyutu : \",img.shape)"
   ]
  },
  {
   "cell_type": "code",
   "execution_count": 3,
   "id": "88af0c40-5c3a-4e37-88c7-f434e1cecae7",
   "metadata": {},
   "outputs": [],
   "source": [
    "cv2.imshow(\"original\",img)\n",
    "cv2.waitKey(0)\n",
    "cv2.destroyAllWindows()"
   ]
  },
  {
   "cell_type": "code",
   "execution_count": 4,
   "id": "084da2ac-e932-4681-98ce-1e22fc13e47e",
   "metadata": {},
   "outputs": [
    {
     "name": "stdout",
     "output_type": "stream",
     "text": [
      "resized img shape:  (800, 800)\n"
     ]
    }
   ],
   "source": [
    "img_Resize=cv2.resize(img,(800,800))\n",
    "print(\"resized img shape: \", img_Resize.shape)"
   ]
  },
  {
   "cell_type": "code",
   "execution_count": 5,
   "id": "3e45ab4e-e1a9-4390-b771-df0c8575762f",
   "metadata": {},
   "outputs": [],
   "source": [
    "cv2.imshow(\"Büyütülmüs hali : \",img_Resize)\n",
    "cv2.imshow(\"original\",img)\n",
    "\n",
    "cv2.waitKey(0)\n",
    "cv2.destroyAllWindows()"
   ]
  },
  {
   "cell_type": "code",
   "execution_count": 6,
   "id": "7186c2e2-e25c-4816-a153-acd1c63f5d41",
   "metadata": {},
   "outputs": [
    {
     "data": {
      "text/plain": [
       "(100, 100)"
      ]
     },
     "execution_count": 6,
     "metadata": {},
     "output_type": "execute_result"
    }
   ],
   "source": [
    " img_resize2 = cv2.resize(img,(100,100))\n",
    "img_resize2.shape"
   ]
  },
  {
   "cell_type": "code",
   "execution_count": 7,
   "id": "94c02908-00b7-475c-8999-d2303076f88c",
   "metadata": {},
   "outputs": [],
   "source": [
    "cv2.imshow(\"original image \",img)\n",
    "cv2.imshow(\"big img \",img_Resize)\n",
    "cv2.imshow(\"small img \",img_resize2)\n",
    "\n",
    "cv2.waitKey(0)\n",
    "cv2.destroyAllWindows()"
   ]
  },
  {
   "cell_type": "code",
   "execution_count": 8,
   "id": "51f814f5-4662-411a-b96d-333c23b0594f",
   "metadata": {},
   "outputs": [],
   "source": [
    "#kırpma işlemi"
   ]
  },
  {
   "cell_type": "code",
   "execution_count": null,
   "id": "5f744f05-5454-499b-bf7c-53a541de66e0",
   "metadata": {},
   "outputs": [],
   "source": [
    "imgCropped = img[:120,:130]\n",
    "cv2.imshow(\"Cropped img\", imgCropped)\n",
    "cv2.imshow(\"original img\",img)\n",
    "\n",
    "cv2.waitKey(0)\n",
    "cv2.destroyAllWindows()"
   ]
  },
  {
   "cell_type": "code",
   "execution_count": null,
   "id": "d9a5d841-4ac7-4c32-b288-e052f6a69593",
   "metadata": {},
   "outputs": [],
   "source": []
  }
 ],
 "metadata": {
  "kernelspec": {
   "display_name": "env_ybs_3",
   "language": "python",
   "name": "env_ybs_3"
  },
  "language_info": {
   "codemirror_mode": {
    "name": "ipython",
    "version": 3
   },
   "file_extension": ".py",
   "mimetype": "text/x-python",
   "name": "python",
   "nbconvert_exporter": "python",
   "pygments_lexer": "ipython3",
   "version": "3.10.10"
  }
 },
 "nbformat": 4,
 "nbformat_minor": 5
}
