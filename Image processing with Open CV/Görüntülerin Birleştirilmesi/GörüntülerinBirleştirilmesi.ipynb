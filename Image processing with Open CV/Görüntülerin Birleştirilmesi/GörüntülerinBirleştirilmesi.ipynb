{
 "cells": [
  {
   "cell_type": "code",
   "execution_count": 3,
   "id": "bacd969b-6f33-4cc8-a8bb-088dc12a9a4b",
   "metadata": {},
   "outputs": [],
   "source": [
    "import cv2\n",
    "import numpy as np"
   ]
  },
  {
   "cell_type": "code",
   "execution_count": 2,
   "id": "9d3a36b0-7027-4fdd-a645-a04e9d71adfd",
   "metadata": {},
   "outputs": [],
   "source": [
    "img = cv2.imread(\"lenna.jfif\")\n",
    "cv2.imshow(\"original\",img)\n",
    "\n",
    "cv2.waitKey(0)\n",
    "cv2.destroyAllWindows()"
   ]
  },
  {
   "cell_type": "code",
   "execution_count": 4,
   "id": "11e2d83b-814f-44ab-bc3a-64387bee5c7f",
   "metadata": {},
   "outputs": [],
   "source": [
    "hor = np.hstack((img,img))\n",
    "cv2.imshow(\"Horizontal\",hor)\n",
    "\n",
    "cv2.waitKey(0)\n",
    "cv2.destroyAllWindows()"
   ]
  },
  {
   "cell_type": "code",
   "execution_count": 5,
   "id": "36468dc2-a82d-40f1-bff4-f68218677431",
   "metadata": {},
   "outputs": [],
   "source": [
    "ver = np.vstack((img,img))\n",
    "cv2.imshow(\"Vertical\",ver)\n",
    "\n",
    "cv2.waitKey(0)\n",
    "cv2.destroyAllWindows()"
   ]
  },
  {
   "cell_type": "code",
   "execution_count": 8,
   "id": "500f27c6-3043-45f0-bc85-978f5fec4e7d",
   "metadata": {},
   "outputs": [
    {
     "data": {
      "text/plain": [
       "True"
      ]
     },
     "execution_count": 8,
     "metadata": {},
     "output_type": "execute_result"
    }
   ],
   "source": [
    "cv2.imwrite(\"./lenna_original.jpg\",img)"
   ]
  },
  {
   "cell_type": "code",
   "execution_count": 9,
   "id": "242f7824-5cb2-494e-ba9a-b411a6577e13",
   "metadata": {},
   "outputs": [
    {
     "data": {
      "text/plain": [
       "True"
      ]
     },
     "execution_count": 9,
     "metadata": {},
     "output_type": "execute_result"
    }
   ],
   "source": [
    "cv2.imwrite(\"./lenna_Horizontal.jpg\",hor)"
   ]
  },
  {
   "cell_type": "code",
   "execution_count": null,
   "id": "2bb8321c-8b49-443b-ab74-c924cecf348e",
   "metadata": {},
   "outputs": [],
   "source": [
    "cv2.imwrite"
   ]
  }
 ],
 "metadata": {
  "kernelspec": {
   "display_name": "env_ybs_3",
   "language": "python",
   "name": "env_ybs_3"
  },
  "language_info": {
   "codemirror_mode": {
    "name": "ipython",
    "version": 3
   },
   "file_extension": ".py",
   "mimetype": "text/x-python",
   "name": "python",
   "nbconvert_exporter": "python",
   "pygments_lexer": "ipython3",
   "version": "3.10.10"
  }
 },
 "nbformat": 4,
 "nbformat_minor": 5
}
